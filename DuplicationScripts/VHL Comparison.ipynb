{
 "cells": [
  {
   "cell_type": "code",
   "execution_count": 1,
   "metadata": {},
   "outputs": [
    {
     "name": "stdout",
     "output_type": "stream",
     "text": [
      "Requirement already satisfied: RISparser in c:\\programdata\\anaconda3\\lib\\site-packages (0.4.3)\n"
     ]
    }
   ],
   "source": [
    "# Install a pip package in the current Jupyter kernel\n",
    "import sys\n",
    "!{sys.executable} -m pip install RISparser\n",
    "\n",
    "import os\n",
    "import json\n",
    "import functools\n",
    "from pprint import pprint\n",
    "from RISparser import readris\n",
    "\n",
    "#the ris file given to Marta for the new imports in May\n",
    "ris_file = 'mendeley_vhl.ris'\n",
    "\n",
    "#the json file here contains ALL entries that were entered on May 20th\n",
    "json_file = 'mendeley_vhl.json'\n",
    "\n",
    "\n",
    "out_file = \"mendeley_unimported.json\"\n"
   ]
  },
  {
   "cell_type": "code",
   "execution_count": 2,
   "metadata": {},
   "outputs": [
    {
     "name": "stdout",
     "output_type": "stream",
     "text": [
      "Out of 199 entries in the ris file, there are 5 without dois\n"
     ]
    }
   ],
   "source": [
    "ris_without_doi = []\n",
    "#ALL RIS entries, with the doi serial being the unique key\n",
    "ris_entries = {}\n",
    "ris_list = None\n",
    "with open(ris_file, 'r') as bibliography_file:\n",
    "    ris_list = list(readris(bibliography_file))\n",
    "\n",
    "\n",
    "    for entry in ris_list:\n",
    "        if \"doi\" not in entry:\n",
    "            ris_without_doi.append(entry)\n",
    "        else:\n",
    "            doi_split = entry[\"doi\"].split(\"/\")\n",
    "            serial= \"/\".join([doi_split[-2], doi_split[-1]]) \n",
    "\n",
    "            if serial not in ris_entries:\n",
    "                ris_entries[serial] = []\n",
    "            ris_entries[serial].append(entry)\n",
    "            \n",
    "print(\"Out of {0} entries in the ris file, there are {1} without dois\".format(len(ris_list), len(ris_without_doi)))"
   ]
  },
  {
   "cell_type": "code",
   "execution_count": 3,
   "metadata": {
    "scrolled": true
   },
   "outputs": [
    {
     "name": "stdout",
     "output_type": "stream",
     "text": [
      "Out of 122 entries in the json file, there are 3 without dois\n"
     ]
    }
   ],
   "source": [
    "json_without_doi = []\n",
    "#ALL json entries, with the doi serial being the unique key\n",
    "json_entries = {}\n",
    "json_list = None\n",
    "with open(json_file, 'r') as bibliography_file:\n",
    "    json_list = list(json.load(bibliography_file))\n",
    "    \n",
    "\n",
    "    \n",
    "    for entry in json_list:\n",
    "        if \"doi\" not in entry[\"identifiers\"]:\n",
    "            json_without_doi.append(entry)\n",
    "        else:\n",
    "            doi_split = entry[\"identifiers\"][\"doi\"].split(\"/\")\n",
    "            serial= \"/\".join([doi_split[-2], doi_split[-1]]) \n",
    "            \n",
    "            if serial not in json_entries:\n",
    "                json_entries[serial] = []\n",
    "            json_entries[serial].append(entry)\n",
    "            \n",
    "print(\"Out of {0} entries in the json file, there are {1} without dois\".format(len(json_list), len(json_without_doi)))"
   ]
  },
  {
   "cell_type": "code",
   "execution_count": 4,
   "metadata": {
    "scrolled": true
   },
   "outputs": [
    {
     "name": "stdout",
     "output_type": "stream",
     "text": [
      "Out of the 194 ris entries with dois, there are 176 unique dois\n",
      "Out of the 119 json entries with dois, there are 105 unique dois\n"
     ]
    }
   ],
   "source": [
    "#seeing how many unique dois there are in each set of entries\n",
    "ris_total = 0\n",
    "for value in ris_entries.values():\n",
    "    ris_total += len(value)\n",
    "print(\"Out of the {0} ris entries with dois, there are {1} unique dois\".format(ris_total, len(ris_entries.keys())))\n",
    "\n",
    "json_total = 0\n",
    "for value in json_entries.values():\n",
    "    json_total += len(value)\n",
    "print(\"Out of the {0} json entries with dois, there are {1} unique dois\".format(json_total, len(json_entries.keys())))\n"
   ]
  },
  {
   "cell_type": "code",
   "execution_count": 5,
   "metadata": {
    "scrolled": true
   },
   "outputs": [],
   "source": [
    "#theres a discrepancy here with how many unique dois there are...\n",
    "#here are all of the non-unique dois"
   ]
  },
  {
   "cell_type": "code",
   "execution_count": 6,
   "metadata": {
    "scrolled": true
   },
   "outputs": [
    {
     "name": "stdout",
     "output_type": "stream",
     "text": [
      "There are 18 dois with repeats in the ris file:\n",
      " {'10.1016/j.jmoldx.2019.01.005', '10.1007/s00345-018-2429-x', '10.1371/journal.pcbi.1006478', '10.1136/jmedgenet-2018-105567', '10.1177/0300060518792368', '10.4103/ijem.IJEM_252_18', '10.1186/s13046-018-0952-7', '10.1128/JVI.01374-18', '10.1007/s00104-018-0741-z', '10.1186/s12881-018-0716-4', '10.1080/07347332.2018.1450320', '10.1007/s10689-018-0081-7', '10.1080/14737140.2019.1574574', '10.1182/blood-2018-99-114080', '10.1007/s00330-018-5872-6', '10.1038/s41598-017-05833-9', '10.1016/j.ejmg.2018.07.006', '10.1038/s41467-019-09241-7'}\n"
     ]
    }
   ],
   "source": [
    "#for the mendeley ris file\n",
    "ris_repeat_dois = set()\n",
    "for doi in ris_entries:\n",
    "    if(len(ris_entries[doi])>1):\n",
    "        ris_repeat_dois.add(doi)\n",
    "        \n",
    "print(\"There are {0} dois with repeats in the ris file:\\n {1}\".format(len(ris_repeat_dois), ris_repeat_dois))"
   ]
  },
  {
   "cell_type": "code",
   "execution_count": 7,
   "metadata": {},
   "outputs": [
    {
     "name": "stdout",
     "output_type": "stream",
     "text": [
      "There are 14 dois with repeats in the json file:\n",
      " {'10.1016/j.jmoldx.2019.01.005', '10.1371/journal.pcbi.1006478', '10.1136/jmedgenet-2018-105567', '10.1177/0300060518792368', '10.4103/ijem.IJEM_252_18', '10.1186/s13046-018-0952-7', '10.1007/s00104-018-0741-z', '10.1080/14737140.2019.1574574', '10.1007/s10689-018-0081-7', '10.1182/blood-2018-99-114080', '10.1007/s00330-018-5872-6', '10.1038/s41598-017-05833-9', '10.1016/j.ejmg.2018.07.006', '10.1038/s41467-019-09241-7'}\n"
     ]
    }
   ],
   "source": [
    "#for the mendeley json file\n",
    "json_repeat_dois = set()\n",
    "for doi in json_entries:\n",
    "    if(len(json_entries[doi])>1):\n",
    "        json_repeat_dois.add(doi)\n",
    "      \n",
    "print(\"There are {0} dois with repeats in the json file:\\n {1}\".format(len(json_repeat_dois), json_repeat_dois))"
   ]
  },
  {
   "cell_type": "code",
   "execution_count": 8,
   "metadata": {
    "scrolled": true
   },
   "outputs": [
    {
     "name": "stdout",
     "output_type": "stream",
     "text": [
      "There are 14 repeated dois common in both files:\n",
      " {'10.1016/j.jmoldx.2019.01.005', '10.1371/journal.pcbi.1006478', '10.1136/jmedgenet-2018-105567', '10.1177/0300060518792368', '10.1182/blood-2018-99-114080', '10.1016/j.ejmg.2018.07.006', '10.1007/s00104-018-0741-z', '10.1080/14737140.2019.1574574', '10.1007/s10689-018-0081-7', '10.4103/ijem.IJEM_252_18', '10.1007/s00330-018-5872-6', '10.1038/s41598-017-05833-9', '10.1186/s13046-018-0952-7', '10.1038/s41467-019-09241-7'}\n"
     ]
    }
   ],
   "source": [
    "#and the non-unique dois in both files:\n",
    "common_repeat_dois = ris_repeat_dois.intersection(json_repeat_dois)\n",
    "print(\"There are {0} repeated dois common in both files:\\n {1}\".format(len(common_repeat_dois), common_repeat_dois))"
   ]
  },
  {
   "cell_type": "code",
   "execution_count": 9,
   "metadata": {},
   "outputs": [],
   "source": [
    "#it turns out all of the dois in the json file are in the RIS file"
   ]
  },
  {
   "cell_type": "code",
   "execution_count": 10,
   "metadata": {},
   "outputs": [
    {
     "name": "stdout",
     "output_type": "stream",
     "text": [
      "There are 71 dois in the ris file that don't appear in the json file: {'10.1038/s41598-017-11035-0', '10.1007/s00345-018-2429-x', '10.3390/biomedicines6010035', '10.1038/s41598-018-27220-8', '10.1016/j.semnephrol.2018.01.006', '10.3390/jcm7060116', '10.1194/jlr.M083311', '10.1200/JCO.2017.74.2627', '10.1016/j.biocel.2018.02.002', '10.1021/acs.jmedchem.6b01781', '10.1016/j.urolonc.2018.10.027', '10.1016/j.bbadis.2018.07.016', '10.1016/S1470-2045(18)30487-X', '10.1016/j.cell.2018.02.020', '10.3389/fonc.2018.00388', '10.2967/jnumed.118.216796', '10.1016/j.bbrc.2018.09.169', '10.1016/j.omtm.2018.02.009', '10.2217/pgs-2017-0160', '10.18632/oncotarget.23470', '10.1021/acs.jmedchem.7b00635', '10.3892/ol.2018.7957', '10.1297/cpe.27.87', '10.3892/ijo.2018.4509', '10.1007/s00345-018-2288-5', '10.3389/fendo.2018.00612', '10.3389/fonc.2018.00214', '10.1530/EC-18-0167', '10.1172/JCI97794', '10.1172/jci.insight.92193', '10.1158/1535-7163.MCT-17-1076', '10.1186/s12881-018-0716-4', '10.1016/j.bbrc.2018.09.172', '10.1016/j.bbadis.2016.06.004', '10.1038/s41598-018-21524-5', '10.3892/ol.2018.9328', '10.4103/JOC.JOC_18_17', '10.1007/s12105-018-0973-8', '10.1016/j.celrep.2018.07.034', '10.1002/cncy.21988', '10.3892/ol.2018.7937', '10.1097/PAI.0000000000000410', '10.3390/ijms19092529', '10.18632/oncotarget.25102', '10.1159/000484096', '10.1038/s41598-017-03980-7', '10.1080/07347332.2018.1450320', '10.1007/s00261-018-1540-1', '10.1182/blood-2018-03-838235', '10.1530/ERC-18-0100', '10.1111/jcmm.13495', '10.3389/fped.2018.00016', '10.1016/j.path.2018.07.010', '10.1136/jmedgenet-2017-104995', '10.1016/j.clgc.2018.01.013', '10.1038/gim.2017.261', '10.4155/fmc-2018-0163', '10.1038/s41585-018-0023-z', '10.1515/dmpt-2018-0007', '10.3892/ijo.2018.4490', '10.3892/ijo.2018.4603', '10.2176/nmccrj.cr.2017-0207', '10.1186/s12935-018-0530-2', '10.1128/JVI.01374-18', '10.1038/s41418-018-0094-7', '10.1161/CIRCRESAHA.117.311983', '10.1016/j.humpath.2018.07.033', '10.1002/bjs.10744', '10.1038/s41598-018-32054-5', '10.1186/s40478-018-0607-0', '10.1177/1078155218790342'}\n",
      "\n"
     ]
    }
   ],
   "source": [
    "#now, finding which entries did not get added to the json file on May 20th\n",
    "json_set = set(json_entries.keys())\n",
    "ris_set = set(ris_entries.keys())\n",
    "\n",
    "#finding which serials are not inside the json (May 20th) set\n",
    "json_extras = json_set.difference(ris_set)\n",
    "ris_extras = ris_set.difference(json_set)\n",
    "# print(json_extras) #all of the json entries were in the ris file\n",
    "print(\"There are {0} dois in the ris file that don't appear in the json file: {1}\\n\".format(len(ris_extras),  ris_extras))"
   ]
  },
  {
   "cell_type": "code",
   "execution_count": 11,
   "metadata": {},
   "outputs": [],
   "source": [
    "out_set = {key: ris_entries[key] for key in ris_extras}"
   ]
  },
  {
   "cell_type": "code",
   "execution_count": 12,
   "metadata": {},
   "outputs": [],
   "source": [
    "with open(out_file, 'w') as bibliography_file:\n",
    "    json.dump(out_set, bibliography_file)"
   ]
  },
  {
   "cell_type": "code",
   "execution_count": 13,
   "metadata": {},
   "outputs": [],
   "source": [
    "### manual inspection results ###\n",
    "\n",
    "## The following are some examples of work duplication\n",
    "# 10.18632/oncotarget.23470 (eg. Reviewed - Andrea / Irrelevant, Reviewed - Clarissa / Irrelevant)\n",
    "# 10.1297/cpe.27.87\n",
    "# 10.1021/acs.jmedchem.7b00635\n",
    "# 10.1038/s41598-018-21524-5\n",
    "# 10.1016/j.semnephrol.2018.01.006\n",
    "# 10.1016/j.clgc.2018.01.013\n",
    "# 10.1172/jci.insight.92193\n",
    "# 10.1021/acs.jmedchem.6b01781\n",
    "# 10.1177/1078155218790342\n",
    "# 10.3892/ol.2018.9328\n",
    "# 10.2217/pgs-2017-0160 (Andrea Irrelevant, Kelly No access )\n",
    "# 10.1038/s41598-017-11035-0 (Yasser, Clariss Irrelevant)\n",
    "# 10.1158/1535-7163.MCT-17-1076 (Pre 2016 Payal, Clarissa Irrelevant)\n",
    "# 10.1016/j.bbadis.2018.07.016 (Payal Irrelevant, Veronica Unsure)\n",
    "# 10.1136/jmedgenet-2018-105567 (Veronica - Not Relevant)\n",
    "\n",
    "## The following are some examples where there are duplicate entries\n",
    "# 10.1021/acs.jmedchem.7b00635\n",
    "# 10.1080/07347332.2018.1450320\n",
    "# 10.1038/s41598-018-21524-5\n",
    "# 10.1016/j.semnephrol.2018.01.006\n",
    "# 10.2967/jnumed.118.216796\n",
    "# 10.1038/s41598-018-27220-8\n",
    "# 10.1016/j.humpath.2018.07.033\n",
    "# 10.2217/pgs-2017-0160 (Andrea Irrelevant, Kelly No access )\n",
    "# 10.1194/jlr.M083311\n",
    "# 10.1158/1535-7163.MCT-17-1076 (Pre 2016 Payal, Clarissa Irrelevant)\n",
    "\n",
    "## The following, from the ris file extras, do not appear in the private vhl repo\n",
    "# 10.1186/s12935-018-0530-2 "
   ]
  }
 ],
 "metadata": {
  "kernelspec": {
   "display_name": "Python 3",
   "language": "python",
   "name": "python3"
  },
  "language_info": {
   "codemirror_mode": {
    "name": "ipython",
    "version": 3
   },
   "file_extension": ".py",
   "mimetype": "text/x-python",
   "name": "python",
   "nbconvert_exporter": "python",
   "pygments_lexer": "ipython3",
   "version": "3.7.3"
  }
 },
 "nbformat": 4,
 "nbformat_minor": 2
}
